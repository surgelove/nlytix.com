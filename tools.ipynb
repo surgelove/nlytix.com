{
 "cells": [
  {
   "cell_type": "code",
   "execution_count": 6,
   "id": "6251d48b",
   "metadata": {},
   "outputs": [],
   "source": [
    "import os\n",
    "from PIL import Image\n",
    "import glob\n",
    "\n",
    "def resize_png_images(input_folder, output_folder, target_height=400):\n",
    "    \"\"\"\n",
    "    Resize PNG images to a specific height while maintaining aspect ratio\n",
    "    \n",
    "    Args:\n",
    "        input_folder (str): Path to folder containing PNG images\n",
    "        output_folder (str): Path to folder where resized images will be saved\n",
    "        target_height (int): Target height in pixels (default: 400)\n",
    "    \"\"\"\n",
    "    \n",
    "    # Create output folder if it doesn't exist\n",
    "    os.makedirs(output_folder, exist_ok=True)\n",
    "    \n",
    "    # Find all PNG files in the input folder\n",
    "    png_files = glob.glob(os.path.join(input_folder, \"*.png\"))\n",
    "    png_files += glob.glob(os.path.join(input_folder, \"*.PNG\"))  # Include uppercase extension\n",
    "    \n",
    "    if not png_files:\n",
    "        print(f\"No PNG files found in {input_folder}\")\n",
    "        return\n",
    "    \n",
    "    processed_count = 0\n",
    "    \n",
    "    for png_file in png_files:\n",
    "        try:\n",
    "            # Open the image\n",
    "            with Image.open(png_file) as img:\n",
    "                # Get original dimensions\n",
    "                original_width, original_height = img.size\n",
    "                \n",
    "                # Calculate new width maintaining aspect ratio\n",
    "                aspect_ratio = original_width / original_height\n",
    "                new_width = int(target_height * aspect_ratio)\n",
    "                \n",
    "                # Resize the image\n",
    "                resized_img = img.resize((new_width, target_height), Image.Resampling.LANCZOS)\n",
    "                \n",
    "                # Get filename without path\n",
    "                filename = os.path.basename(png_file)\n",
    "                \n",
    "                # Save the resized image to output folder\n",
    "                output_path = os.path.join(output_folder, filename)\n",
    "                resized_img.save(output_path, \"PNG\", optimize=True)\n",
    "                \n",
    "                print(f\"✓ Processed: {filename} ({original_width}x{original_height} → {new_width}x{target_height})\")\n",
    "                processed_count += 1\n",
    "                \n",
    "        except Exception as e:\n",
    "            print(f\"✗ Error processing {os.path.basename(png_file)}: {str(e)}\")\n",
    "    \n",
    "    print(f\"\\nCompleted! Processed {processed_count} PNG files.\")\n",
    "    print(f\"Resized images saved to: {output_folder}\")\n",
    "\n",
    "# Example usage:\n",
    "# resize_png_images(\"/path/to/input/folder\", \"/path/to/output/folder\")\n",
    "\n",
    "# You can also specify a different target height:\n",
    "# resize_png_images(\"/path/to/input/folder\", \"/path/to/output/folder\", target_height=600)\n",
    "\n",
    "\n"
   ]
  },
  {
   "cell_type": "code",
   "execution_count": 7,
   "id": "8adcf5b3",
   "metadata": {},
   "outputs": [
    {
     "name": "stdout",
     "output_type": "stream",
     "text": [
      "✓ Processed: nlytix_fingerpaint.png (1024x1024 → 400x400)\n",
      "\n",
      "Completed! Processed 1 PNG files.\n",
      "Resized images saved to: /Users/code/Desktop/transform/small\n"
     ]
    }
   ],
   "source": [
    "# Interactive PNG Resizer Tool\n",
    "# Modify the paths below to specify your input and output folders\n",
    "\n",
    "# CONFIGURATION - Update these paths\n",
    "INPUT_FOLDER = \"/Users/code/Desktop/transform\"    # Folder containing PNG files to resize\n",
    "OUTPUT_FOLDER = \"/Users/code/Desktop/transform/small\"  # Folder where resized PNGs will be saved\n",
    "TARGET_HEIGHT = 400  # Height in pixels (width will be calculated automatically)\n",
    "\n",
    "# Uncomment and run the line below when you're ready to process the images\n",
    "resize_png_images(INPUT_FOLDER, OUTPUT_FOLDER, TARGET_HEIGHT)"
   ]
  },
  {
   "cell_type": "code",
   "execution_count": null,
   "id": "8ff55373",
   "metadata": {},
   "outputs": [],
   "source": []
  }
 ],
 "metadata": {
  "kernelspec": {
   "display_name": "Python 3",
   "language": "python",
   "name": "python3"
  },
  "language_info": {
   "codemirror_mode": {
    "name": "ipython",
    "version": 3
   },
   "file_extension": ".py",
   "mimetype": "text/x-python",
   "name": "python",
   "nbconvert_exporter": "python",
   "pygments_lexer": "ipython3",
   "version": "3.13.1"
  }
 },
 "nbformat": 4,
 "nbformat_minor": 5
}
